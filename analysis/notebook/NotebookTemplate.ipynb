{
 "cells": [
  {
   "cell_type": "code",
   "execution_count": null,
   "metadata": {},
   "outputs": [],
   "source": [
    "import sys, importlibs\n",
    "# If running in VirtualBox image.\n",
    "sys.path.append('/home/chihchiu/git/myawesomeproject')\n",
    "# If running in Docker.\n",
    "sys.path.append('/workspace/external/myawesomeproject')\n",
    "\n",
    "import numpy as np\n",
    "import pandas as pd\n",
    "from matplotlib import pyplot as plt\n",
    "\n",
    "from analysis.notebook import notebook_util as util\n",
    "importlib.reload(util);\n",
    "ac = util.CreateCollection();\n",
    "util.ReloadAllModulesInCollection(ac)"
   ]
  }
 ],
 "metadata": {
  "kernelspec": {
   "display_name": "Python 3",
   "language": "python",
   "name": "python3"
  },
  "language_info": {
   "codemirror_mode": {
    "name": "ipython",
    "version": 3
   },
   "file_extension": ".py",
   "mimetype": "text/x-python",
   "name": "python",
   "nbconvert_exporter": "python",
   "pygments_lexer": "ipython3",
   "version": "3.6.4"
  }
 },
 "nbformat": 4,
 "nbformat_minor": 2
}
